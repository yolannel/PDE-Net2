{
 "cells": [
  {
   "cell_type": "code",
   "execution_count": 1,
   "id": "44e6a9d2",
   "metadata": {},
   "outputs": [],
   "source": [
    "import torch\n",
    "import pandas as pd\n",
    "# u_obs shape: batchsize x channelNum x xgridsize x ygridsize\n",
    "# torch.Size([28, 2, 32, 32])"
   ]
  },
  {
   "cell_type": "code",
   "execution_count": 22,
   "id": "95843559",
   "metadata": {},
   "outputs": [],
   "source": [
    "x = torch.load('u_obs.pt')\n",
    "# print(x.shape())\n",
    "slice = x[1][1][1][:][:].cpu()\n",
    "# data = pd.DataFrame(x[1][1][:][:].cpu()).astype(\"float\")"
   ]
  },
  {
   "cell_type": "code",
   "execution_count": 23,
   "id": "a74bc04a",
   "metadata": {},
   "outputs": [
    {
     "name": "stdout",
     "output_type": "stream",
     "text": [
      "tensor([[-1.2530, -1.3391, -1.3435,  ..., -1.0190, -1.0399, -1.1234],\n",
      "        [-1.1049, -1.2219, -1.2457,  ..., -0.9092, -0.9219, -0.9830],\n",
      "        [-0.9815, -1.1073, -1.1487,  ..., -0.8323, -0.8411, -0.8816],\n",
      "        ...,\n",
      "        [-1.5279, -1.5489, -1.5369,  ..., -1.3582, -1.3862, -1.4600],\n",
      "        [-1.4662, -1.5027, -1.4973,  ..., -1.2510, -1.2830, -1.3755],\n",
      "        [-1.3780, -1.4340, -1.4300,  ..., -1.1350, -1.1653, -1.2632]], dtype=torch.float64)\n"
     ]
    }
   ],
   "source": [
    "torch.set_printoptions(linewidth=200)\n",
    "torch.set_printoptions(threshold=200)\n",
    "print(slice)"
   ]
  },
  {
   "cell_type": "code",
   "execution_count": null,
   "id": "14890ef8",
   "metadata": {},
   "outputs": [],
   "source": []
  }
 ],
 "metadata": {
  "kernelspec": {
   "display_name": "Python 3 (ipykernel)",
   "language": "python",
   "name": "python3"
  },
  "language_info": {
   "codemirror_mode": {
    "name": "ipython",
    "version": 3
   },
   "file_extension": ".py",
   "mimetype": "text/x-python",
   "name": "python",
   "nbconvert_exporter": "python",
   "pygments_lexer": "ipython3",
   "version": "3.7.13"
  }
 },
 "nbformat": 4,
 "nbformat_minor": 5
}
